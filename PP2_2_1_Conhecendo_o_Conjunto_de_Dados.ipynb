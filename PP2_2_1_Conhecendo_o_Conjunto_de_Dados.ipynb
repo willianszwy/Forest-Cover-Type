{
  "nbformat": 4,
  "nbformat_minor": 0,
  "metadata": {
    "kernelspec": {
      "display_name": "Python 3",
      "language": "python",
      "name": "python3"
    },
    "language_info": {
      "codemirror_mode": {
        "name": "ipython",
        "version": 3
      },
      "file_extension": ".py",
      "mimetype": "text/x-python",
      "name": "python",
      "nbconvert_exporter": "python",
      "pygments_lexer": "ipython3",
      "version": "3.6.10"
    },
    "colab": {
      "name": "PP2_2_1_Conhecendo_o_Conjunto_de_Dados.ipynb",
      "provenance": [],
      "include_colab_link": true
    }
  },
  "cells": [
    {
      "cell_type": "markdown",
      "metadata": {
        "id": "view-in-github",
        "colab_type": "text"
      },
      "source": [
        "<a href=\"https://colab.research.google.com/github/willianszwy/Forest-Cover-Type/blob/main/PP2_2_1_Conhecendo_o_Conjunto_de_Dados.ipynb\" target=\"_parent\"><img src=\"https://colab.research.google.com/assets/colab-badge.svg\" alt=\"Open In Colab\"/></a>"
      ]
    },
    {
      "cell_type": "markdown",
      "metadata": {
        "id": "pFbOuY33cexF"
      },
      "source": [
        "## Redes Neurais Artificiais 2021.1\n",
        "\n",
        "- **Disciplina**: Redes Neurais Artificiais 2021.1  \n",
        "- **Professora**: Elloá B. Guedes (ebgcosta@uea.edu.br)  \n",
        "- **Github**: http://github.com/elloa  \n",
        "\n",
        "### Explorando uma base de dados\n",
        "\n",
        "Nesta atividade prática iremos explorar a seguinte base de dados **_Forest Cover Type_**\n",
        "\n",
        "1. Obtenha esta base de dados no seguinte link: https://www.kaggle.com/uciml/forest-cover-type-dataset/download\n",
        "2. Consulte a documentação oficial da base de dados: https://archive.ics.uci.edu/ml/datasets/covertype\n",
        "3. **Responda**:  \n",
        "\n",
        "    3.1 O que é cada exemplo na base de dados?  \n",
        "    3.2 Em que ano ela foi obtida?  \n",
        "    3.3 Quem foram os responsáveis pela criação desta base de dados?  "
      ]
    },
    {
      "cell_type": "code",
      "metadata": {
        "id": "DIZUa8u4cexH"
      },
      "source": [
        "## Reservado para a importação de bibliotecas\n"
      ],
      "execution_count": null,
      "outputs": []
    },
    {
      "cell_type": "markdown",
      "metadata": {
        "id": "KABVgstMcexI"
      },
      "source": [
        ""
      ]
    },
    {
      "cell_type": "markdown",
      "metadata": {
        "id": "czD6Ht5XcexI"
      },
      "source": [
        ""
      ]
    },
    {
      "cell_type": "markdown",
      "metadata": {
        "id": "Cy_pa6ZscexJ"
      },
      "source": [
        ""
      ]
    },
    {
      "cell_type": "markdown",
      "metadata": {
        "id": "50o5xb-pcexJ"
      },
      "source": [
        "### Manipulando a base de dados\n",
        "\n",
        "1. Abra a base de dados com o pandas\n",
        "2. Imprima os 10 primeiros exemplos pertencentes à esta base\n",
        "3. Imprima os 10 últimos exemplos pertencentes à esta base\n",
        "4. Quantos exemplos esta base de dados possui?\n",
        "5. Quais são os atributos que a base de dados possui e quais seus tipos?\n",
        "6. Há algum dado faltante na base?\n",
        "7. De acordo com a documentação da base de dados, qual o significado dos atributos do tipo \"Soil Type\"?  \n",
        "  7.1 Este atributo é quantitativo ou qualitativo?  \n",
        "  7.2 Qual o tipo de codificação utilizada para denotar este atributo? Consulte a seguinte referência:  \n",
        "  * https://pbpython.com/categorical-encoding.html"
      ]
    },
    {
      "cell_type": "code",
      "metadata": {
        "id": "MNGIFOrEcexJ"
      },
      "source": [
        ""
      ],
      "execution_count": null,
      "outputs": []
    },
    {
      "cell_type": "code",
      "metadata": {
        "id": "IsO0YGLpcexJ"
      },
      "source": [
        ""
      ],
      "execution_count": null,
      "outputs": []
    },
    {
      "cell_type": "code",
      "metadata": {
        "id": "h9sUvOa9cexK"
      },
      "source": [
        ""
      ],
      "execution_count": null,
      "outputs": []
    },
    {
      "cell_type": "code",
      "metadata": {
        "id": "4UaGQez2cexK"
      },
      "source": [
        ""
      ],
      "execution_count": null,
      "outputs": []
    },
    {
      "cell_type": "markdown",
      "metadata": {
        "id": "bb94loPDcexK"
      },
      "source": [
        "### Visualizando a base de dados\n",
        "\n",
        "1. Baseando-se nos fundamentos de visualização de dados abordados na disciplina, plote cada um dos atributos preditores de maneira a enfatizar a sua distribuição, tendência central e dispersão  \n",
        "1.1 Considere que o número de columas no dataset é diferente do número de atributos, conforme discussão promovida a respeito do dataset  \n",
        "1.2 Se preferir, opte por complementar as informações visuais com medidas estatísticas  \n",
        "2. A partir da visualização elaborada, o que pode-se dizer a respeito do balanceamento do atributo-alvo?\n",
        "3. Que tipo de tarefa de Aprendizado de Máquina é sugestiva para este problema?  \n",
        "3.1 Apresente métricas de desempenho compatíveis para a avaliação do problema (liste-as)  \n",
        "3.2 Escolha uma das métricas apresentadas para ser utilizada como referência pela equipe"
      ]
    },
    {
      "cell_type": "code",
      "metadata": {
        "id": "aQ1Aw0RscexL"
      },
      "source": [
        ""
      ],
      "execution_count": null,
      "outputs": []
    },
    {
      "cell_type": "code",
      "metadata": {
        "id": "eWHso8GhcexL"
      },
      "source": [
        ""
      ],
      "execution_count": null,
      "outputs": []
    },
    {
      "cell_type": "code",
      "metadata": {
        "id": "VW6PTSdgcexL"
      },
      "source": [
        ""
      ],
      "execution_count": null,
      "outputs": []
    },
    {
      "cell_type": "code",
      "metadata": {
        "id": "l0iaN8K2cexL"
      },
      "source": [
        ""
      ],
      "execution_count": null,
      "outputs": []
    },
    {
      "cell_type": "code",
      "metadata": {
        "id": "Z4hknKHPcexL"
      },
      "source": [
        ""
      ],
      "execution_count": null,
      "outputs": []
    },
    {
      "cell_type": "code",
      "metadata": {
        "id": "OeNPr9K2cexL"
      },
      "source": [
        ""
      ],
      "execution_count": null,
      "outputs": []
    }
  ]
}